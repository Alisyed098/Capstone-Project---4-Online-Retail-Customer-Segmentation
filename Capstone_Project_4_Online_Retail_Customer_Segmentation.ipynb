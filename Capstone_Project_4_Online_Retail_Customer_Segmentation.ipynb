{
  "nbformat": 4,
  "nbformat_minor": 0,
  "metadata": {
    "colab": {
      "private_outputs": true,
      "provenance": [],
      "collapsed_sections": [
        "w6K7xa23Elo4"
      ],
      "include_colab_link": true
    },
    "kernelspec": {
      "name": "python3",
      "display_name": "Python 3"
    },
    "language_info": {
      "name": "python"
    }
  },
  "cells": [
    {
      "cell_type": "markdown",
      "metadata": {
        "id": "view-in-github",
        "colab_type": "text"
      },
      "source": [
        "<a href=\"https://colab.research.google.com/github/Alisyed098/Capstone-Project---4-Online-Retail-Customer-Segmentation/blob/main/Capstone_Project_4_Online_Retail_Customer_Segmentation.ipynb\" target=\"_parent\"><img src=\"https://colab.research.google.com/assets/colab-badge.svg\" alt=\"Open In Colab\"/></a>"
      ]
    },
    {
      "cell_type": "markdown",
      "source": [
        "# **Project Name**    - **Online Retail Customer Segmentation**\n",
        "\n"
      ],
      "metadata": {
        "id": "vncDsAP0Gaoa"
      }
    },
    {
      "cell_type": "markdown",
      "source": [
        "##### **Project Type**    - Unsupervised\n",
        "##### **Contribution**    - Individual\n",
        "##### **Team Member 1 -** Syed Junaid Ali\n"
      ],
      "metadata": {
        "id": "beRrZCGUAJYm"
      }
    },
    {
      "cell_type": "markdown",
      "source": [
        "# **Project Summary -**"
      ],
      "metadata": {
        "id": "FJNUwmbgGyua"
      }
    },
    {
      "cell_type": "markdown",
      "source": [
        "\n",
        "This is an Unsupervised Learning project.I will have to build a model which is capable of segment retail customers on the basis of there Recency, Monetary and Frequency(RFM).\n",
        "\n"
      ],
      "metadata": {
        "id": "F6v_1wHtG2nS"
      }
    },
    {
      "cell_type": "markdown",
      "source": [
        "# **GitHub Link -**"
      ],
      "metadata": {
        "id": "w6K7xa23Elo4"
      }
    },
    {
      "cell_type": "markdown",
      "source": [
        "Provide your GitHub Link here."
      ],
      "metadata": {
        "id": "h1o69JH3Eqqn"
      }
    },
    {
      "cell_type": "markdown",
      "source": [
        "# **Problem Statement**\n"
      ],
      "metadata": {
        "id": "yQaldy8SH6Dl"
      }
    },
    {
      "cell_type": "markdown",
      "source": [
        "In this project, your task is to identify major customer segments on a transnational data set which contains all the transactions occurring between 01/12/2010 and 09/12/2011 for a UK-based and registered non-store online retail.The company mainly sells unique all-occasion gifts. Many customers of the company are wholesalers."
      ],
      "metadata": {
        "id": "DpeJGUA3kjGy"
      }
    },
    {
      "cell_type": "markdown",
      "source": [
        "## ***1. Know Your Data***"
      ],
      "metadata": {
        "id": "HhfV-JJviCcP"
      }
    },
    {
      "cell_type": "markdown",
      "source": [
        "### Import Libraries"
      ],
      "metadata": {
        "id": "Y3lxredqlCYt"
      }
    },
    {
      "cell_type": "code",
      "source": [
        "# Import Libraries\n",
        "import numpy as np\n",
        "import pandas as pd\n",
        "import seaborn as sns\n",
        "import matplotlib.pyplot as plt"
      ],
      "metadata": {
        "id": "M8Vqi-pPk-HR"
      },
      "execution_count": null,
      "outputs": []
    },
    {
      "cell_type": "code",
      "source": [
        "import datetime\n",
        "import scipy\n",
        "import scipy.stats as stat\n",
        "import math\n",
        "import sklearn"
      ],
      "metadata": {
        "id": "yFpGcm5Wl0Id"
      },
      "execution_count": null,
      "outputs": []
    },
    {
      "cell_type": "code",
      "source": [
        "from sklearn.datasets import make_blobs\n",
        "from sklearn.cluster import KMeans\n",
        "from sklearn.metrics import silhouette_samples, silhouette_score\n",
        "import matplotlib.cm as cm\n",
        "import plotly.express as px\n",
        "from yellowbrick.cluster import KElbowVisualizer, SilhouetteVisualizer\n",
        "from sklearn import preprocessing\n",
        "from sklearn.preprocessing import StandardScaler\n",
        "\n",
        "## Libraries for Hierarchical clustering\n",
        "from scipy.cluster.hierarchy import linkage\n",
        "from scipy.cluster.hierarchy import dendrogram\n",
        "from scipy.cluster.hierarchy import cut_tree"
      ],
      "metadata": {
        "id": "Hz0t6EG6l3Pj"
      },
      "execution_count": null,
      "outputs": []
    },
    {
      "cell_type": "markdown",
      "source": [
        "### Dataset Loading"
      ],
      "metadata": {
        "id": "3RnN4peoiCZX"
      }
    },
    {
      "cell_type": "code",
      "source": [
        "# Load Dataset\n",
        "from google.colab import drive\n",
        "drive.mount('/content/drive')"
      ],
      "metadata": {
        "id": "4CkvbW_SlZ_R"
      },
      "execution_count": null,
      "outputs": []
    },
    {
      "cell_type": "code",
      "source": [
        "dframe = pd.read_excel('/content/drive/MyDrive/Online Retail.xlsx')"
      ],
      "metadata": {
        "id": "KHVTJ2cil-JG"
      },
      "execution_count": null,
      "outputs": []
    },
    {
      "cell_type": "markdown",
      "source": [
        "### Dataset First View"
      ],
      "metadata": {
        "id": "x71ZqKXriCWQ"
      }
    },
    {
      "cell_type": "code",
      "source": [
        "# Dataset First Look\n",
        "dframe.head()"
      ],
      "metadata": {
        "id": "LWNFOSvLl09H"
      },
      "execution_count": null,
      "outputs": []
    },
    {
      "cell_type": "code",
      "source": [
        "dframe.tail()"
      ],
      "metadata": {
        "id": "HHvavdB9m0qy"
      },
      "execution_count": null,
      "outputs": []
    },
    {
      "cell_type": "markdown",
      "source": [
        "### Dataset Rows & Columns count"
      ],
      "metadata": {
        "id": "7hBIi_osiCS2"
      }
    },
    {
      "cell_type": "code",
      "source": [
        "# Dataset Rows & Columns count\n",
        "dframe.shape"
      ],
      "metadata": {
        "id": "Kllu7SJgmLij"
      },
      "execution_count": null,
      "outputs": []
    },
    {
      "cell_type": "markdown",
      "source": [
        "### Dataset Information"
      ],
      "metadata": {
        "id": "JlHwYmJAmNHm"
      }
    },
    {
      "cell_type": "code",
      "source": [
        "# Dataset Info\n",
        "dframe.info()"
      ],
      "metadata": {
        "id": "e9hRXRi6meOf"
      },
      "execution_count": null,
      "outputs": []
    },
    {
      "cell_type": "markdown",
      "source": [
        "#### Duplicate Values"
      ],
      "metadata": {
        "id": "35m5QtbWiB9F"
      }
    },
    {
      "cell_type": "code",
      "source": [
        "# Dataset Duplicate Value Count\n",
        "len(dframe[dframe.duplicated(keep = False)])"
      ],
      "metadata": {
        "id": "1sLdpKYkmox0"
      },
      "execution_count": null,
      "outputs": []
    },
    {
      "cell_type": "markdown",
      "source": [
        "#### Missing Values/Null Values"
      ],
      "metadata": {
        "id": "PoPl-ycgm1ru"
      }
    },
    {
      "cell_type": "code",
      "source": [
        "# Missing Values/Null Values Count\n",
        "dframe.isnull().sum()"
      ],
      "metadata": {
        "id": "GgHWkxvamxVg"
      },
      "execution_count": null,
      "outputs": []
    },
    {
      "cell_type": "code",
      "source": [
        "dframe['Country'].unique()"
      ],
      "metadata": {
        "id": "PBb-F1DVngKS"
      },
      "execution_count": null,
      "outputs": []
    },
    {
      "cell_type": "markdown",
      "source": [
        "# Dataset Information"
      ],
      "metadata": {
        "id": "t2-DU20HF_7Y"
      }
    },
    {
      "cell_type": "markdown",
      "source": [
        "- InvoiceNo: Invoice number. Nominal, a 6-digit integral number uniquely assigned to each transaction. If this code starts with letter 'c', it indicates a cancellation.\n",
        "- StockCode: Product (item) code. Nominal, a 5-digit integral number uniquely assigned to each distinct product.\n",
        "- Description: Product (item) name. Nominal.\n",
        "- Quantity: The quantities of each product (item) per transaction. Numeric.\n",
        "- InvoiceDate: Invice Date and time. Numeric, the day and time when each transaction was generated.\n",
        "- UnitPrice: Unit price. Numeric, Product price per unit in sterling.\n",
        "- CustomerID: Customer number. Nominal, a 5-digit integral number uniquely assigned to each customer.\n",
        "- Country: Country name. Nominal, the name of the country where each customer resides.\n"
      ],
      "metadata": {
        "id": "MvixAsCtGPTu"
      }
    },
    {
      "cell_type": "markdown",
      "source": [
        "# **Exploratory Data Analysis**"
      ],
      "metadata": {
        "id": "aWgpJ6LSNYn4"
      }
    },
    {
      "cell_type": "code",
      "source": [
        "unique_df=pd.DataFrame()\n",
        "unique_df['Features']=dframe.columns\n",
        "unique=[]\n",
        "for i in dframe.columns:\n",
        "  unique.append(dframe[i].nunique())\n",
        "unique_df['Uniques']=unique\n",
        "\n",
        "f, ax = plt.subplots(1,1, figsize=(15,7))\n",
        "\n",
        "splot = sns.barplot(x=unique_df['Features'], y=unique_df['Uniques'], alpha=0.8)\n",
        "for p in splot.patches:\n",
        "    splot.annotate(format(p.get_height(), '.0f'), (p.get_x() + p.get_width() / 2, p.get_height()), ha = 'center',\n",
        "                   va = 'center', xytext = (0, 9), textcoords = 'offset points')\n",
        "plt.title('Bar plot for number of unique values in each column',weight='bold', size=15)\n",
        "plt.ylabel('#Unique values', size=12, weight='bold')\n",
        "plt.xlabel('Features', size=12, weight='bold')\n",
        "plt.xticks(rotation=90)\n",
        "plt.show()"
      ],
      "metadata": {
        "id": "H8DV88ZhNSgi"
      },
      "execution_count": null,
      "outputs": []
    },
    {
      "cell_type": "code",
      "source": [
        "# distribution customer in 1 year period of time\n",
        "plt.figure(figsize=(20,9))\n",
        "customer_distribution = dframe.groupby('InvoiceDate').count()['CustomerID'].plot()\n",
        "\n",
        "## Set title and x, y labels\n",
        "plt.title('Distribution of customers Over period of 1 year', size=25)\n",
        "plt.xlabel('Invoice date', size=15)\n",
        "plt.ylabel('No. of Customers', size=15)\n",
        "plt.show()"
      ],
      "metadata": {
        "id": "saHAFIXBQTZR"
      },
      "execution_count": null,
      "outputs": []
    },
    {
      "cell_type": "markdown",
      "source": [
        "**Dropping Duplicates**"
      ],
      "metadata": {
        "id": "XW9AibJmRKjZ"
      }
    },
    {
      "cell_type": "code",
      "source": [
        "# copying dataset\n",
        "df = dframe.copy()"
      ],
      "metadata": {
        "id": "3b347257RIAd"
      },
      "execution_count": null,
      "outputs": []
    },
    {
      "cell_type": "markdown",
      "source": [
        "Before proceeding further dupicates values needs to be removed."
      ],
      "metadata": {
        "id": "wwfcdOq2RdYQ"
      }
    },
    {
      "cell_type": "code",
      "source": [
        "# dropping all duplicate values\n",
        "df.drop_duplicates(keep = \"first\", inplace = True)"
      ],
      "metadata": {
        "id": "0hdWodoYRZcJ"
      },
      "execution_count": null,
      "outputs": []
    },
    {
      "cell_type": "code",
      "source": [
        "print(f\"Shape of the dataset before removing duplicates{dframe.shape}\")\n",
        "\n",
        "print(f\"Shape of the dataset after removing duplicates{df.shape}\")"
      ],
      "metadata": {
        "id": "_jpt80dpR8B5"
      },
      "execution_count": null,
      "outputs": []
    },
    {
      "cell_type": "markdown",
      "source": [
        "**Country count on the basis of Invoce no.**"
      ],
      "metadata": {
        "id": "fdTqE5E9Tjw1"
      }
    },
    {
      "cell_type": "code",
      "source": [
        "## Apply groupby function on country and Invoice No.\n",
        "country_count = df.groupby('Country')['InvoiceNo'].count().reset_index()\n"
      ],
      "metadata": {
        "id": "OT0zsFnnTpS-"
      },
      "execution_count": null,
      "outputs": []
    },
    {
      "cell_type": "code",
      "source": [
        "country_count.head()"
      ],
      "metadata": {
        "id": "ui6IOL92Tr3B"
      },
      "execution_count": null,
      "outputs": []
    },
    {
      "cell_type": "code",
      "source": [
        "## From country_count variable finding top 10 countries\n",
        "Top_ten_countries = country_count.sort_values('InvoiceNo', ascending=False, ignore_index=True).head(10)\n",
        "Top_ten_countries"
      ],
      "metadata": {
        "id": "MNKQQoyGTvaT"
      },
      "execution_count": null,
      "outputs": []
    },
    {
      "cell_type": "code",
      "source": [
        "## Adding country percentage column to top 10 countries data frame\n",
        "Top_ten_countries['Country_percent']= Top_ten_countries['InvoiceNo']*100/df['InvoiceNo'].count()"
      ],
      "metadata": {
        "id": "MIPkPCNETxsU"
      },
      "execution_count": null,
      "outputs": []
    },
    {
      "cell_type": "code",
      "source": [
        "Top_ten_countries"
      ],
      "metadata": {
        "id": "HcTVbf_WT0BW"
      },
      "execution_count": null,
      "outputs": []
    },
    {
      "cell_type": "code",
      "source": [
        "# Figure Size\n",
        "plt.figure(figsize=(15,8))\n",
        "\n",
        "## Define x and y axis\n",
        "x=Top_ten_countries['Country']\n",
        "y=Top_ten_countries['Country_percent']\n",
        "\n",
        "# creating the bar plot\n",
        "plt.bar(x,y,color ='c')\n",
        "\n",
        "## Function to set label\n",
        "def addlabels(x,y):\n",
        "    for i in range(len(x)):\n",
        "        plt.text(i,y[i],y[i],ha=\"center\")\n",
        "\n",
        "addlabels(x,round(y,2))\n",
        "\n",
        "# set xlabel. ylabel and title\n",
        "plt.xlabel(\"Country\", size=20)\n",
        "plt.ylabel(\"% Orders\", size=20)\n",
        "plt.title(\"% Orders from each Country\", size=30)\n",
        "\n",
        "## Showing the plot\n",
        "plt.show()"
      ],
      "metadata": {
        "id": "nSwILa9VT307"
      },
      "execution_count": null,
      "outputs": []
    },
    {
      "cell_type": "markdown",
      "source": [
        "**Checking for cancelled orders**"
      ],
      "metadata": {
        "id": "2jegZF_JhffY"
      }
    },
    {
      "cell_type": "markdown",
      "source": [
        "Lets look at the number of cancelled orders in the dataset."
      ],
      "metadata": {
        "id": "Wif5DkNhhqWc"
      }
    },
    {
      "cell_type": "code",
      "source": [
        "# String to be searched in start of string\n",
        "search =\"C\"\n",
        "\n",
        "# boolean series returned with False at place of NaN\n",
        "bool_series = df[\"InvoiceNo\"].str.startswith(search, na=False)\n",
        "\n",
        "# displaying filtered dataframe\n",
        "cancelled_orders = df[bool_series]\n",
        "\n",
        "cancelled_orders.head()"
      ],
      "metadata": {
        "id": "3Myp7nj6hm-w"
      },
      "execution_count": null,
      "outputs": []
    },
    {
      "cell_type": "code",
      "source": [
        "cancelled_orders.shape"
      ],
      "metadata": {
        "id": "03uoO89hiZB5"
      },
      "execution_count": null,
      "outputs": []
    },
    {
      "cell_type": "code",
      "source": [
        "cancelled_orders_percentage = cancelled_orders['InvoiceNo'].count()*100/df['InvoiceNo'].count()\n",
        "cancelled_orders_percentage"
      ],
      "metadata": {
        "id": "IxO-WlwPiZdh"
      },
      "execution_count": null,
      "outputs": []
    },
    {
      "cell_type": "markdown",
      "source": [
        "This shows that 9251 (approx 1.72%) were such orders which was cancelled."
      ],
      "metadata": {
        "id": "na_N8KwojFF3"
      }
    },
    {
      "cell_type": "code",
      "source": [
        "cancelled_orders_country = cancelled_orders.groupby('Country')['InvoiceNo'].count().reset_index()"
      ],
      "metadata": {
        "id": "vJ8C7TNlispf"
      },
      "execution_count": null,
      "outputs": []
    },
    {
      "cell_type": "code",
      "source": [
        "cancelled_orders_countries_top10 = cancelled_orders_country.sort_values('InvoiceNo',ascending=False, ignore_index=True).head(10)\n",
        "cancelled_orders_countries_top10"
      ],
      "metadata": {
        "id": "CT7qv9XwjLgt"
      },
      "execution_count": null,
      "outputs": []
    },
    {
      "cell_type": "code",
      "source": [
        "# Figure Size\n",
        "plt.figure(figsize=(15,8))\n",
        "\n",
        "## Define x and y axis\n",
        "x=cancelled_orders_countries_top10['Country']\n",
        "y=cancelled_orders_countries_top10['InvoiceNo']\n",
        "\n",
        "# creating the bar plot\n",
        "plt.bar(x,y,color = '#F8766D')\n",
        "\n",
        "## Function to set label\n",
        "def addlabels(x,y):\n",
        "    for i in range(len(x)):\n",
        "        plt.text(i,y[i],y[i],ha = \"center\")\n",
        "\n",
        "addlabels(x,y)\n",
        "\n",
        "# set xlabel. ylabel and title\n",
        "plt.xlabel(\"Countries\", size=20)\n",
        "plt.ylabel(\"No. of Cancelled Orders\", size=20)\n",
        "plt.title(\"No. of Cancelled Orders from each Country\", size=30)\n",
        "\n",
        "## Showing the plot\n",
        "plt.show()"
      ],
      "metadata": {
        "id": "i4FpE5PCjp2h"
      },
      "execution_count": null,
      "outputs": []
    },
    {
      "cell_type": "code",
      "source": [
        "df = df[~df.InvoiceNo.str.contains(\"C\", na=False)]"
      ],
      "metadata": {
        "id": "fYBopV2wk8CE"
      },
      "execution_count": null,
      "outputs": []
    },
    {
      "cell_type": "code",
      "source": [
        "# shape of dataset without cancelled orders\n",
        "df.shape"
      ],
      "metadata": {
        "id": "Nh90rIh6k9Fh"
      },
      "execution_count": null,
      "outputs": []
    },
    {
      "cell_type": "markdown",
      "source": [
        "**Customer's data**"
      ],
      "metadata": {
        "id": "Of2sRTaslPPT"
      }
    },
    {
      "cell_type": "code",
      "source": [
        "# defining new dataset for customer\n",
        "cust_df = df.copy()"
      ],
      "metadata": {
        "id": "DWRVH5oJlW7w"
      },
      "execution_count": null,
      "outputs": []
    },
    {
      "cell_type": "code",
      "source": [
        "# creating new column amount\n",
        "cust_df['amount'] = cust_df.Quantity*cust_df.UnitPrice"
      ],
      "metadata": {
        "id": "x1OwF9dYl_cn"
      },
      "execution_count": null,
      "outputs": []
    },
    {
      "cell_type": "code",
      "source": [
        "cust_df.head()"
      ],
      "metadata": {
        "id": "RMTEJoJfmGnI"
      },
      "execution_count": null,
      "outputs": []
    },
    {
      "cell_type": "code",
      "source": [
        "# total sales per customer\n",
        "Sales_sum = cust_df.groupby([\"CustomerID\"]).amount.sum().sort_values(ascending = False).iloc[:20].reset_index()\n",
        "Sales_sum.head(10)"
      ],
      "metadata": {
        "id": "O7J1HD_fmRIb"
      },
      "execution_count": null,
      "outputs": []
    },
    {
      "cell_type": "code",
      "source": [
        "sns.set(rc={'figure.figsize':(18,8)})\n",
        "sns.barplot(x=\"CustomerID\", y=\"amount\", data=Sales_sum, order=Sales_sum['CustomerID'], palette = \"mako\")"
      ],
      "metadata": {
        "id": "FLZHfJMwmt21"
      },
      "execution_count": null,
      "outputs": []
    },
    {
      "cell_type": "markdown",
      "source": [
        "**Top products**"
      ],
      "metadata": {
        "id": "HyS5DLVqnfW-"
      }
    },
    {
      "cell_type": "code",
      "source": [
        "AmoutSum = cust_df.groupby([\"Description\"]).amount.sum().sort_values(ascending = False)\n",
        "inv = cust_df[[\"Description\", \"InvoiceNo\"]].groupby([\"Description\"]).InvoiceNo.unique().\\\n",
        "      agg(np.size).sort_values(ascending = False)\n",
        "\n",
        "fig = plt.figure(figsize=(25, 7))\n",
        "f1 = fig.add_subplot(121)\n",
        "Top10 = list(AmoutSum[:10].index)\n",
        "PercentSales =  np.round((AmoutSum[Top10].sum()/AmoutSum.sum()) * 100, 2)\n",
        "\n",
        "g = AmoutSum[Top10].\\\n",
        "    plot(kind='bar', title='Top 10 Products in Sales Amount are having: {:3.2f}% of Amount'.\\\n",
        "                       format(PercentSales))"
      ],
      "metadata": {
        "id": "VPC5GIuAneuJ"
      },
      "execution_count": null,
      "outputs": []
    },
    {
      "cell_type": "markdown",
      "source": [
        "**Checking orders with negative quantities that were not cancelled**"
      ],
      "metadata": {
        "id": "mn0slWe9rzfD"
      }
    },
    {
      "cell_type": "code",
      "source": [
        "df_negative_qty = df[df['Quantity'] < 0]\n",
        "df_negative_qty.head()"
      ],
      "metadata": {
        "id": "K5fUjpDortZg"
      },
      "execution_count": null,
      "outputs": []
    },
    {
      "cell_type": "markdown",
      "source": [
        "As we can see from the above, these cases are the ones where CustomerID values are NaNs. These cases were also removed from the data."
      ],
      "metadata": {
        "id": "Y5EfbvpEsEKC"
      }
    },
    {
      "cell_type": "code",
      "source": [
        "# checking the shape\n",
        "df_negative_qty.shape"
      ],
      "metadata": {
        "id": "QQtvGFhvsDMm"
      },
      "execution_count": null,
      "outputs": []
    },
    {
      "cell_type": "markdown",
      "source": [
        "So, there are 1336 rows having negative quantity and also orders were not canceled.\n",
        "\n",
        "Also we can see that, these cases are the ones where CustomerID values are NaNs. These cases should be removed from the data."
      ],
      "metadata": {
        "id": "oBms5Y32sliK"
      }
    },
    {
      "cell_type": "code",
      "source": [
        "# defining dataset without negative quantities\n",
        "df = df[df['Quantity'] > 0]"
      ],
      "metadata": {
        "id": "nICjz69kskPy"
      },
      "execution_count": null,
      "outputs": []
    },
    {
      "cell_type": "code",
      "source": [
        "# checking its shape...\n",
        "df.shape"
      ],
      "metadata": {
        "id": "P4vXbXxztXdi"
      },
      "execution_count": null,
      "outputs": []
    },
    {
      "cell_type": "code",
      "source": [
        "df.isnull().sum()"
      ],
      "metadata": {
        "id": "SB2_fiSWt4j6"
      },
      "execution_count": null,
      "outputs": []
    },
    {
      "cell_type": "markdown",
      "source": [
        "Customer ID has 133322 Null Values. And Description has 592 Nan Values.Decided to drop the Null values to make the data more cleaned."
      ],
      "metadata": {
        "id": "e430NHuGuWMH"
      }
    },
    {
      "cell_type": "code",
      "source": [
        "# dropping null values\n",
        "df.dropna(inplace=True)"
      ],
      "metadata": {
        "id": "U4TXKRA_ur2J"
      },
      "execution_count": null,
      "outputs": []
    },
    {
      "cell_type": "code",
      "source": [
        "df.head()"
      ],
      "metadata": {
        "id": "b0PR21VauteY"
      },
      "execution_count": null,
      "outputs": []
    },
    {
      "cell_type": "code",
      "source": [
        "# checking shape after removing null values\n",
        "df.shape"
      ],
      "metadata": {
        "id": "MVKpla-6uzrn"
      },
      "execution_count": null,
      "outputs": []
    },
    {
      "cell_type": "code",
      "source": [
        "df.isnull().sum()"
      ],
      "metadata": {
        "id": "xh1cvTARu0ac"
      },
      "execution_count": null,
      "outputs": []
    },
    {
      "cell_type": "code",
      "source": [
        "# describing the dataset\n",
        "df.iloc[:, :-1].describe().T.sort_values(by='std' , ascending = False)\\\n",
        "                     .style.background_gradient(cmap='Greens')\\\n",
        "                     .bar(subset=[\"max\"], color='#F8766D')\\\n",
        "                     .bar(subset=[\"mean\",], color='#00BFC4')"
      ],
      "metadata": {
        "id": "lI-oTFXnv-pk"
      },
      "execution_count": null,
      "outputs": []
    },
    {
      "cell_type": "markdown",
      "source": [
        "# **Feature Engineering &  Data Preprocessing** - **RFM model (Recency, Frequency, Monetary value)**"
      ],
      "metadata": {
        "id": "x-Jibjanw6hq"
      }
    },
    {
      "cell_type": "markdown",
      "source": [
        "**Recency**\n",
        "\n",
        "To create a Recency feature variable, i need to decide the reference date for analysis and i wil define the reference date as one day before the last transaction."
      ],
      "metadata": {
        "id": "wjxU3IvMxLIN"
      }
    },
    {
      "cell_type": "code",
      "source": [
        "reference_date = df.InvoiceDate.max()\n",
        "\n",
        "#timedelta function returns to total number of seconds\n",
        "reference_date = reference_date + datetime.timedelta(days=1)\n",
        "\n",
        "print(df.InvoiceDate.max(), df.InvoiceDate.min())\n",
        "reference_date"
      ],
      "metadata": {
        "id": "Kj31nZ-TxKkz"
      },
      "execution_count": null,
      "outputs": []
    },
    {
      "cell_type": "markdown",
      "source": [
        "i will construct a reference variable as number of days before the reference date when a customer last made a purchase."
      ],
      "metadata": {
        "id": "dG_ab_9QyPoh"
      }
    },
    {
      "cell_type": "code",
      "source": [
        "df['days_since_last_purchase'] = reference_date- df.InvoiceDate\n",
        "df['days_since_last_purchase_num'] = df['days_since_last_purchase'].astype('timedelta64[D]')\n",
        "df['days_since_last_purchase_num'].head()"
      ],
      "metadata": {
        "id": "x98q7cmfyWHR"
      },
      "execution_count": null,
      "outputs": []
    },
    {
      "cell_type": "code",
      "source": [
        "customer_history_df = df.groupby('CustomerID')['days_since_last_purchase_num'].min().reset_index()\n",
        "customer_history_df.rename(columns={'days_since_last_purchase_num':'Recency'}, inplace=True)\n",
        "customer_history_df.head()"
      ],
      "metadata": {
        "id": "IVJP61wjyE0_"
      },
      "execution_count": null,
      "outputs": []
    },
    {
      "cell_type": "code",
      "source": [
        "customer_history_df.iloc[:, :].describe().T.sort_values(by='std' , ascending = False)\\\n",
        "                     .style.background_gradient(cmap='Greens')\\\n",
        "                     .bar(subset=[\"max\"], color='#F8766D')\\\n",
        "                     .bar(subset=[\"mean\",], color='#00BFC4')"
      ],
      "metadata": {
        "id": "jnfQYWE2zhqf"
      },
      "execution_count": null,
      "outputs": []
    },
    {
      "cell_type": "markdown",
      "source": [
        "**Frequency and Monetary value**"
      ],
      "metadata": {
        "id": "lPV0SPzQ0YTy"
      }
    },
    {
      "cell_type": "code",
      "source": [
        "# calculating monetary\n",
        "df['Monetary'] = df['Quantity']*df['UnitPrice']"
      ],
      "metadata": {
        "id": "947dcOBF0WwN"
      },
      "execution_count": null,
      "outputs": []
    },
    {
      "cell_type": "code",
      "source": [
        "customer_monetary_val = df[['CustomerID','Monetary']].groupby('CustomerID').sum().reset_index()\n",
        "customer_monetary_val.head()"
      ],
      "metadata": {
        "id": "gw950X0c0yuJ"
      },
      "execution_count": null,
      "outputs": []
    },
    {
      "cell_type": "code",
      "source": [
        "customer_history_df=customer_history_df.merge(customer_monetary_val,how='outer')\n",
        "customer_history_df.head()"
      ],
      "metadata": {
        "id": "u_klo2Q90_oX"
      },
      "execution_count": null,
      "outputs": []
    },
    {
      "cell_type": "code",
      "source": [
        "# calculating customer frequency\n",
        "customer_freq = df[['CustomerID','Monetary']].groupby('CustomerID').count().reset_index()\n",
        "customer_freq.rename(columns={'Monetary':'Frequency'},inplace=True)\n",
        "customer_freq.head()"
      ],
      "metadata": {
        "id": "hCgNHWXb1Bnn"
      },
      "execution_count": null,
      "outputs": []
    },
    {
      "cell_type": "code",
      "source": [
        "customer_history_df=customer_history_df.merge(customer_freq,how='outer')\n",
        "customer_history_df.head()"
      ],
      "metadata": {
        "id": "4UgDl2h81CUw"
      },
      "execution_count": null,
      "outputs": []
    },
    {
      "cell_type": "code",
      "source": [
        "customer_history_df.Monetary[customer_history_df.Monetary<=0].count()"
      ],
      "metadata": {
        "id": "3rW35xRv1EXh"
      },
      "execution_count": null,
      "outputs": []
    },
    {
      "cell_type": "code",
      "source": [
        "customer_history_df = customer_history_df[customer_history_df.Monetary != 0]"
      ],
      "metadata": {
        "id": "-y9lmjQo1GyU"
      },
      "execution_count": null,
      "outputs": []
    },
    {
      "cell_type": "markdown",
      "source": [
        "**Outlier Treatment**"
      ],
      "metadata": {
        "id": "gub-J1-E-NzX"
      }
    },
    {
      "cell_type": "code",
      "source": [
        "# Box plot of Recency\n",
        "plt.rcParams['figure.figsize'] = [10,8]\n",
        "sns.boxplot(data = customer_history_df['Recency'], orient=\"v\", palette=\"Set2\" ,whis=1.5,saturation=1, width=0.7)\n",
        "plt.title(\"Outliers Variable Distribution\", fontsize = 14, fontweight = 'bold')\n",
        "plt.ylabel(\"Range\", fontweight = 'bold')\n",
        "plt.xlabel(\"Attribute - Recency\", fontweight = 'bold')"
      ],
      "metadata": {
        "id": "fXGvhhJU-Vgh"
      },
      "execution_count": null,
      "outputs": []
    },
    {
      "cell_type": "code",
      "source": [
        "# Box plot of Monetary\n",
        "plt.rcParams['figure.figsize'] = [10,8]\n",
        "sns.boxplot(data = customer_history_df['Monetary'], orient=\"v\", palette=\"Set2\" ,whis=1.5,saturation=1, width=0.7)\n",
        "plt.title(\"Outliers Variable Distribution\", fontsize = 14, fontweight = 'bold')\n",
        "plt.ylabel(\"Range\", fontweight = 'bold')\n",
        "plt.xlabel(\"Attribute - Monetary\", fontweight = 'bold')"
      ],
      "metadata": {
        "id": "2UIBWR2-1eT3"
      },
      "execution_count": null,
      "outputs": []
    },
    {
      "cell_type": "code",
      "source": [
        "# Box plot of Frequency\n",
        "plt.rcParams['figure.figsize'] = [10,8]\n",
        "sns.boxplot(data = customer_history_df['Frequency'], orient=\"v\", palette=\"Set2\" ,whis=1.5,saturation=1, width=0.7)\n",
        "plt.title(\"Outliers Variable Distribution\", fontsize = 14, fontweight = 'bold')\n",
        "plt.ylabel(\"Range\", fontweight = 'bold')\n",
        "plt.xlabel(\"Attribute - Frequency\", fontweight = 'bold')"
      ],
      "metadata": {
        "id": "IGH93JrE1z-0"
      },
      "execution_count": null,
      "outputs": []
    },
    {
      "cell_type": "code",
      "source": [
        "# removing (statistical) outliers\n",
        "Q1 = customer_history_df.Monetary.quantile(0.05)\n",
        "Q3 = customer_history_df.Monetary.quantile(0.95)\n",
        "IQR = Q3 - Q1\n",
        "customer_history_df = customer_history_df[(customer_history_df.Monetary >= Q1 - 1.5*IQR) & (customer_history_df.Monetary <= Q3 + 1.5*IQR)]\n",
        "\n",
        "# outlier treatment for recency\n",
        "Q1 = customer_history_df.Recency.quantile(0.05)\n",
        "Q3 = customer_history_df.Recency.quantile(0.95)\n",
        "IQR = Q3 - Q1\n",
        "customer_history_df = customer_history_df[(customer_history_df.Recency >= Q1 - 1.5*IQR) & (customer_history_df.Recency <= Q3 + 1.5*IQR)]\n",
        "\n",
        "# outlier treatment for frequency\n",
        "Q1 = customer_history_df.Frequency.quantile(0.05)\n",
        "Q3 = customer_history_df.Frequency.quantile(0.95)\n",
        "IQR = Q3 - Q1\n",
        "customer_history_df = customer_history_df[(customer_history_df.Frequency >= Q1 - 1.5*IQR) & (customer_history_df.Frequency <= Q3 + 1.5*IQR)]\n"
      ],
      "metadata": {
        "id": "689iF2vW155k"
      },
      "execution_count": null,
      "outputs": []
    },
    {
      "cell_type": "code",
      "source": [
        "# Rescaling\n",
        "rfm_df = customer_history_df[['Monetary', 'Frequency', 'Recency']]\n",
        "\n",
        "# instantiate\n",
        "scaler = StandardScaler()\n",
        "\n",
        "# fit_transform\n",
        "rfm_df_scaled = scaler.fit_transform(rfm_df)\n",
        "rfm_df_scaled.shape"
      ],
      "metadata": {
        "id": "3DttXL7w8JFZ"
      },
      "execution_count": null,
      "outputs": []
    },
    {
      "cell_type": "code",
      "source": [
        "rfm_df_scaled = pd.DataFrame(rfm_df_scaled)\n",
        "rfm_df_scaled.columns = ['Monetary', 'Frequency', 'Recency']\n",
        "rfm_df_scaled.head()"
      ],
      "metadata": {
        "id": "XUFjJJkx8s1c"
      },
      "execution_count": null,
      "outputs": []
    },
    {
      "cell_type": "code",
      "source": [
        "# Importing Library for 3D plot\n",
        "from mpl_toolkits.mplot3d import Axes3D\n",
        "\n",
        "# set fig size\n",
        "fig=plt.figure(figsize=(10,8))\n",
        "\n",
        "# syntax for 3-D plotting\n",
        "ax=fig.add_subplot(111,projection='3d')\n",
        "\n",
        "# syntax for plotting\n",
        "xs = rfm_df_scaled.Recency\n",
        "ys = rfm_df_scaled.Frequency\n",
        "zs = rfm_df_scaled.Monetary\n",
        "ax.scatter(xs,ys,zs,s=5)\n",
        "\n",
        "# set x, y & z label\n",
        "ax.set_xlabel('Recency')\n",
        "ax.set_ylabel('Frequency')\n",
        "ax.set_zlabel('Monetary value')\n",
        "\n",
        "# show the plot\n",
        "plt.show()"
      ],
      "metadata": {
        "id": "ipsy16YD84R7"
      },
      "execution_count": null,
      "outputs": []
    },
    {
      "cell_type": "markdown",
      "source": [
        "**Model Training**"
      ],
      "metadata": {
        "id": "9pAXz0Dv9rYV"
      }
    },
    {
      "cell_type": "markdown",
      "source": [
        "**Silhouette analysis on K-Means Clustering**\n",
        "\n",
        "Silhouette analysis can be used to study the separation distance between the resulting clusters, as a strategy to quantifying the quality of clustering via graphical tool to plot a measure of how tightly grouped the samples in the clusters are. The silhouette plot displays a measure of how close each point in one cluster is to points in the neighboring clusters and thus provides a way to assess parameters like number of clusters visually.\n",
        "\n",
        "Let's see below how our data perform for each K clusters groups (3, 5 and 7) in the silhouette score of each cluster, along with the center of each of the cluster discovered in the scatter plots, by amount_log vs recency_log and vs frequency_log.\n",
        "\n",
        "Silhouette Analysis\n",
        "\n",
        "silhouette score = (p-q)/max(p,q)\n",
        "\n",
        "p is the mean distance to the points in the nearest cluster that the data point is not a part of\n",
        "\n",
        "q is the mean intra-cluster distance to all the points in its own cluster.\n",
        "\n",
        "The value of the silhouette score range lies between -1 to 1.\n",
        "\n",
        "A score closer to 1 indicates that the data point is very similar to other data points in the cluster,\n",
        "\n",
        "A score closer to -1 indicates that the data point is not similar to the data points in its cluster."
      ],
      "metadata": {
        "id": "GdQ-cNff9xqF"
      }
    },
    {
      "cell_type": "code",
      "source": [
        "# applying with 3 clusters\n",
        "model = SilhouetteVisualizer(KMeans(3))\n",
        "model.fit(rfm_df_scaled) # fitting the model"
      ],
      "metadata": {
        "id": "NE9h0WeeBcwU"
      },
      "execution_count": null,
      "outputs": []
    },
    {
      "cell_type": "code",
      "source": [
        "# applying with 4 clusters\n",
        "model = SilhouetteVisualizer(KMeans(4))\n",
        "model.fit(rfm_df_scaled) # fitting"
      ],
      "metadata": {
        "id": "9H4B2YuyBdiL"
      },
      "execution_count": null,
      "outputs": []
    },
    {
      "cell_type": "code",
      "source": [
        "# applying with 5 clusters\n",
        "model = SilhouetteVisualizer(KMeans(5))\n",
        "model.fit(rfm_df_scaled) # fitting"
      ],
      "metadata": {
        "id": "gbMjiqnyB2cM"
      },
      "execution_count": null,
      "outputs": []
    },
    {
      "cell_type": "markdown",
      "source": [
        "**Finding best value for k**"
      ],
      "metadata": {
        "id": "Ywi_1EOqB9y0"
      }
    },
    {
      "cell_type": "markdown",
      "source": [
        "**The Elbow Method** - Using the elbow method to find the optimal number of clusters. The idea behind the elbow method is to identify the value of k where the distortion begins to increase most rapidly. If k increases, the distortion will decrease, because the samples will be closer to the centroids they are assigned to."
      ],
      "metadata": {
        "id": "L2Aw5ccTCC1F"
      }
    },
    {
      "cell_type": "code",
      "source": [
        "# elbow-curve/SSD\n",
        "ssd = []\n",
        "range_n_clusters = [2, 3, 4, 5, 6, 7, 8]\n",
        "for num_clusters in range_n_clusters:\n",
        "    kmeans = KMeans(n_clusters=num_clusters, max_iter=50)\n",
        "    kmeans.fit(rfm_df_scaled)\n",
        "\n",
        "    ssd.append(kmeans.inertia_)\n",
        "\n",
        "# plot the SSDs for each n_clusters\n",
        "# ssd\n",
        "plt.plot(ssd)"
      ],
      "metadata": {
        "id": "K4reI9dFB9Ps"
      },
      "execution_count": null,
      "outputs": []
    },
    {
      "cell_type": "code",
      "source": [
        "# silhouette analysis\n",
        "range_n_clusters = [2, 3, 4, 5, 6, 7, 8]\n",
        "\n",
        "for num_clusters in range_n_clusters:\n",
        "\n",
        "    # intialise kmeans\n",
        "    kmeans = KMeans(n_clusters=num_clusters, max_iter=50)\n",
        "    kmeans.fit(rfm_df_scaled)\n",
        "\n",
        "    cluster_labels = kmeans.labels_\n",
        "\n",
        "    # silhouette score\n",
        "    silhouette_avg = silhouette_score(rfm_df_scaled, cluster_labels)\n",
        "    print(\"For n_clusters={0}, the silhouette score is {1}\".format(num_clusters, silhouette_avg))"
      ],
      "metadata": {
        "id": "5pjBDcEvCcGA"
      },
      "execution_count": null,
      "outputs": []
    },
    {
      "cell_type": "code",
      "source": [
        "# final model with k=3\n",
        "kmeans = KMeans(n_clusters=3, max_iter=50)\n",
        "kmeans.fit(rfm_df_scaled)"
      ],
      "metadata": {
        "id": "FJy5FOqgCpz5"
      },
      "execution_count": null,
      "outputs": []
    },
    {
      "cell_type": "code",
      "source": [
        "kmeans.labels_"
      ],
      "metadata": {
        "id": "P8vhZ9kiCt4G"
      },
      "execution_count": null,
      "outputs": []
    },
    {
      "cell_type": "code",
      "source": [
        "# assign the label\n",
        "customer_history_df['cluster_id'] = kmeans.labels_\n",
        "customer_history_df.head()"
      ],
      "metadata": {
        "id": "BvTgykOXCxL9"
      },
      "execution_count": null,
      "outputs": []
    },
    {
      "cell_type": "code",
      "source": [
        "# plot\n",
        "sns.boxplot(x='cluster_id', y='Recency', data=customer_history_df)"
      ],
      "metadata": {
        "id": "j382t3srC_vC"
      },
      "execution_count": null,
      "outputs": []
    },
    {
      "cell_type": "code",
      "source": [
        "# plot\n",
        "sns.boxplot(x='cluster_id', y='Monetary', data=customer_history_df)"
      ],
      "metadata": {
        "id": "9mJ9RgDcDFxh"
      },
      "execution_count": null,
      "outputs": []
    },
    {
      "cell_type": "code",
      "source": [
        "# plot\n",
        "sns.boxplot(x='cluster_id', y='Frequency', data=customer_history_df)"
      ],
      "metadata": {
        "id": "YDDcUwtcDMre"
      },
      "execution_count": null,
      "outputs": []
    },
    {
      "cell_type": "markdown",
      "source": [
        "**Hierarchical Clustering**"
      ],
      "metadata": {
        "id": "pojuNS6hDbJr"
      }
    },
    {
      "cell_type": "code",
      "source": [
        "rfm_df_scaled.head()"
      ],
      "metadata": {
        "id": "P-JBUQbRDhRB"
      },
      "execution_count": null,
      "outputs": []
    },
    {
      "cell_type": "code",
      "source": [
        "customer_history_df.head()"
      ],
      "metadata": {
        "id": "_2rvA5baDkwV"
      },
      "execution_count": null,
      "outputs": []
    },
    {
      "cell_type": "code",
      "source": [
        "# single linkage\n",
        "plt.figure(figsize=(15,10))\n",
        "mergings = linkage(rfm_df_scaled, method=\"single\", metric='euclidean')\n",
        "dendrogram(mergings)\n",
        "plt.show()"
      ],
      "metadata": {
        "id": "ut2y-p_PDr8H"
      },
      "execution_count": null,
      "outputs": []
    },
    {
      "cell_type": "code",
      "source": [
        "# complete linkage\n",
        "plt.figure(figsize=(18,10))\n",
        "mergings = linkage(rfm_df_scaled, method=\"complete\", metric='euclidean')\n",
        "dendrogram(mergings)\n",
        "plt.show()"
      ],
      "metadata": {
        "id": "PcbuvbLDDzoC"
      },
      "execution_count": null,
      "outputs": []
    },
    {
      "cell_type": "code",
      "source": [
        "# 3 clusters\n",
        "cluster_labels = cut_tree(mergings, n_clusters=3).reshape(-1, )\n",
        "cluster_labels"
      ],
      "metadata": {
        "id": "GaFmhv_ZD28r"
      },
      "execution_count": null,
      "outputs": []
    },
    {
      "cell_type": "code",
      "source": [
        "# assign cluster labels\n",
        "customer_history_df['cluster_labels'] = cluster_labels\n",
        "customer_history_df.head()"
      ],
      "metadata": {
        "id": "MMG-xJ7YFEpi"
      },
      "execution_count": null,
      "outputs": []
    },
    {
      "cell_type": "code",
      "source": [
        "# plots\n",
        "sns.boxplot(x='cluster_labels', y='Recency', data=customer_history_df)"
      ],
      "metadata": {
        "id": "rBMTwAndFRpN"
      },
      "execution_count": null,
      "outputs": []
    },
    {
      "cell_type": "code",
      "source": [
        "# plots\n",
        "sns.boxplot(x='cluster_labels', y='Monetary', data=customer_history_df)"
      ],
      "metadata": {
        "id": "XX4jh1GNEEXV"
      },
      "execution_count": null,
      "outputs": []
    },
    {
      "cell_type": "code",
      "source": [
        "# plots\n",
        "sns.boxplot(x='cluster_labels', y='Frequency', data=customer_history_df)"
      ],
      "metadata": {
        "id": "MLcdTWBkEIVN"
      },
      "execution_count": null,
      "outputs": []
    },
    {
      "cell_type": "markdown",
      "source": [
        "We can obeserved that cluster 2 have a highest sales frequency then to other clusters."
      ],
      "metadata": {
        "id": "lluR72dHEMNO"
      }
    },
    {
      "cell_type": "code",
      "source": [
        "### visualize the result\n",
        "import plotly.express as px\n",
        "fig = px.scatter_3d(customer_history_df, x='Recency', y='Frequency', z='Monetary',\n",
        "              color='cluster_labels')\n",
        "fig.show()"
      ],
      "metadata": {
        "id": "w1GBahG2FXzz"
      },
      "execution_count": null,
      "outputs": []
    },
    {
      "cell_type": "markdown",
      "source": [
        "**Summary**\n",
        "\n",
        "RFM analysis can segment customers into homogenous group quickly with set of minimum variables. Scoring system can be defined and ranged differently. We get a better result for clustering steps by applying scoring rather than using the raw calculated RFM values. Therefore, segmenting should be done by RFM scoring and further analysis on the spending behavior should be done on the raw values for the targeted cluster to expose more insight and characteristics. RFM analysis solely depends on purchasing behavior and histories, analysis can be further improved by exploring weighted composite scoring or including customer demographic information and product information. A good analysis can increase effectiveness and efficiency of marketing plans, hence increase profitability at minimum cost."
      ],
      "metadata": {
        "id": "gfoNAAC-nUe_"
      }
    },
    {
      "cell_type": "markdown",
      "source": [
        "# **Conclusion**\n",
        "\n",
        "To conclude, we saw how we can segment our customer depending on our business requirements. You can perform RFM for your entire customer base, or just a subset. For example, you may first segment customers based on a geographical area or other demographics, and then by RFM for historical, transaction-based behaviour segments. RFM analysis can help in answering many questions with respect to their customers and this can help companies to make marketing strategies for their customers, retaining their slipping customers and providing recommendations to their customer based on their interest. We used the K-means algorithm to segment our customer in various clusters having similar similarity. I think K-means did a pretty good job here."
      ],
      "metadata": {
        "id": "sfd3EJCSEY7R"
      }
    }
  ]
}